{
 "cells": [
  {
   "cell_type": "code",
   "execution_count": null,
   "id": "a64a5e16-d84d-4937-8edb-0b8124b9ef50",
   "metadata": {},
   "outputs": [],
   "source": [
    "from ilearnplus import runiLearnPlus"
   ]
  },
  {
   "cell_type": "code",
   "execution_count": null,
   "id": "ee9cf7e2-dd16-4a49-a1a6-8d1f77fb912e",
   "metadata": {},
   "outputs": [],
   "source": [
    "runiLearnPlus()"
   ]
  },
  {
   "cell_type": "code",
   "execution_count": null,
   "id": "c3d74367-ddfa-4fd5-8951-2f70992b708e",
   "metadata": {},
   "outputs": [],
   "source": []
  }
 ],
 "metadata": {
  "kernelspec": {
   "display_name": "Python 3 (ipykernel)",
   "language": "python",
   "name": "python3"
  },
  "language_info": {
   "codemirror_mode": {
    "name": "ipython",
    "version": 3
   },
   "file_extension": ".py",
   "mimetype": "text/x-python",
   "name": "python",
   "nbconvert_exporter": "python",
   "pygments_lexer": "ipython3",
   "version": "3.8.10"
  }
 },
 "nbformat": 4,
 "nbformat_minor": 5
}
