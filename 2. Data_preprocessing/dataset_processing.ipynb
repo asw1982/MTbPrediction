{
 "cells": [
  {
   "cell_type": "code",
   "execution_count": 1,
   "id": "aa5e7215",
   "metadata": {},
   "outputs": [],
   "source": [
    "# TO SEPARATE DATASET INTO k-FOLD CROSS VALIDATION DATA\n",
    "# DATA WOULD BE DIFFERED BY LOCATION OF VALIDATION DATASET\n",
    "#============================================================================================================================\n",
    "def CF_Validation(k,train_data,train_targets):\n",
    "    num_val_samples = len(train_data) // k   # number of samples is divided by number of folds\n",
    "    total_validation_data=[]\n",
    "    total_validation_targets=[]\n",
    "    total_train_data=[]\n",
    "    total_train_targets=[]\n",
    "    \n",
    "    for i in range(k):\n",
    "        \n",
    "        val_data = train_data[i * num_val_samples: (i + 1) * num_val_samples]\n",
    "        val_targets = train_targets[i * num_val_samples: (i + 1) * num_val_samples]\n",
    "        \n",
    "        partial_train_data = np.concatenate(\n",
    "            [train_data[:i * num_val_samples],\n",
    "            train_data[(i + 1) * num_val_samples:]],\n",
    "            axis=0)\n",
    "        partial_train_targets = np.concatenate(\n",
    "            [train_targets[:i * num_val_samples],\n",
    "            train_targets[(i + 1) * num_val_samples:]],\n",
    "            axis=0)\n",
    "    \n",
    "        total_validation_data.append(val_data)\n",
    "        total_validation_targets.append(val_targets) \n",
    "    \n",
    "        total_train_data.append(partial_train_data)\n",
    "        total_train_targets.append(partial_train_targets)\n",
    "    return total_train_data,total_train_targets,total_validation_data,total_validation_targets"
   ]
  },
  {
   "cell_type": "code",
   "execution_count": 2,
   "id": "538baa54",
   "metadata": {},
   "outputs": [],
   "source": [
    "# GET DATA FROM SMILES AND SEPARATE THE X AND y \n",
    "# TRAIN DATASET\n",
    "#================================================\n",
    "def get_dataset (path_data) :\n",
    "    pd_data = pd.read_csv(path_data)\n",
    "    pd_smiles = pd_data['SMILES']\n",
    "    pd_labels = pd_data['LABELS']\n",
    "    return pd_smiles, pd_labels\n"
   ]
  },
  {
   "cell_type": "code",
   "execution_count": 3,
   "id": "e36f980b",
   "metadata": {},
   "outputs": [],
   "source": [
    "def CF_Validation_version_2(k, train_data, train_targets):\n",
    "    \n",
    "    total_validation_data=[]\n",
    "    total_validation_targets=[]\n",
    "    total_train_data=[]\n",
    "    total_train_targets=[]\n",
    "    skf = StratifiedKFold(n_splits=k)\n",
    "    skf.get_n_splits(train_data,train_targets)\n",
    "    \n",
    "    all_train_indices = []\n",
    "    all_val_indices = []\n",
    "    \n",
    "    for train_index, val_index in skf.split(train_data, train_targets):\n",
    "        partial_train_data = []\n",
    "        partial_val_data =[]\n",
    "        partial_train_targets = []\n",
    "        partial_val_targets =[]\n",
    "    \n",
    "        all_train_indices.append(len(train_index))\n",
    "        all_val_indices.append(len(val_index))\n",
    "        [partial_train_data.append(train_data[i]) for i in train_index]\n",
    "        [partial_val_data.append(train_data[j]) for j in val_index]\n",
    "        [partial_train_targets.append(train_targets[m]) for m in train_index]\n",
    "        [partial_val_targets.append(train_targets[n]) for n in val_index]\n",
    "        \n",
    "        total_validation_data.append(partial_val_data)\n",
    "        total_validation_targets.append(partial_val_targets) \n",
    "        total_train_data.append(partial_train_data)\n",
    "        total_train_targets.append(partial_train_targets)\n",
    "        \n",
    "    return all_train_indices, all_val_indices, total_train_data,total_train_targets,total_validation_data,total_validation_targets"
   ]
  },
  {
   "cell_type": "code",
   "execution_count": null,
   "id": "4403e3f3",
   "metadata": {},
   "outputs": [],
   "source": []
  }
 ],
 "metadata": {
  "kernelspec": {
   "display_name": "Python 3 (ipykernel)",
   "language": "python",
   "name": "python3"
  },
  "language_info": {
   "codemirror_mode": {
    "name": "ipython",
    "version": 3
   },
   "file_extension": ".py",
   "mimetype": "text/x-python",
   "name": "python",
   "nbconvert_exporter": "python",
   "pygments_lexer": "ipython3",
   "version": "3.7.12"
  }
 },
 "nbformat": 4,
 "nbformat_minor": 5
}
